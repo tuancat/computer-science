{
 "cells": [
  {
   "cell_type": "code",
   "execution_count": 11,
   "metadata": {
    "collapsed": true
   },
   "outputs": [
    {
     "name": "stdout",
     "output_type": "stream",
     "text": [
      "Load library\n"
     ]
    }
   ],
   "source": [
    "from __future__ import division, print_function, unicode_literals\n",
    "import numpy as np \n",
    "import matplotlib.pyplot as plt\n",
    "import pandas as pd \n",
    "from sklearn.preprocessing import StandardScaler\n",
    "from scipy.optimize import fmin, minimize\n",
    "\n",
    "\n",
    "pd.set_option('display.max_rows', 40)\n",
    "pd.set_option('display.max_columns', 500)\n",
    "pd.set_option('display.width', 1000)\n",
    "\n",
    "print('Load library')"
   ]
  },
  {
   "cell_type": "code",
   "execution_count": 12,
   "metadata": {},
   "outputs": [],
   "source": [
    "raw_data = pd.read_csv(r'C:\\Users\\SamFisher\\Downloads\\cancer_reg.csv', sep=',')\n",
    "# print(myFile)\n",
    "# Standardization\n",
    "data = pd.DataFrame(raw_data);\n",
    "scaler = StandardScaler()\n",
    "X_COLUMNS = ['avganncount']\n",
    "Y_COLUMNS = ['avgdeathsperyear']\n"
   ]
  },
  {
   "cell_type": "code",
   "execution_count": 13,
   "metadata": {},
   "outputs": [
    {
     "data": {
      "image/png": "[encoded data removed]",
      "text/plain": [
       "<Figure size 432x288 with 1 Axes>"
      ]
     },
     "metadata": {},
     "output_type": "display_data"
    }
   ],
   "source": [
    "X = data[X_COLUMNS].values\n",
    "y = data[Y_COLUMNS].values\n",
    "# Visualize data \n",
    "plt.plot(X, y, 'ro')\n",
    "plt.axis([0, 1000, 0, 500])\n",
    "plt.xlabel('dân số')\n",
    "plt.ylabel('trung bình số người chết')\n",
    "plt.show()"
   ]
  },
  {
   "cell_type": "code",
   "execution_count": 17,
   "metadata": {},
   "outputs": [
    {
     "name": "stdout",
     "output_type": "stream",
     "text": [
      "Optimization terminated successfully.\n         Current function value: 235.247996\n         Iterations: 18\n         Function evaluations: 36\ny_min [129.8336875  16.0781875   9.479625   39.6843125   5.2974375  39.77725\n  23.234375   13.568875    8.1785    374.0734375  10.5019375  68.77375\n   5.1115625 319.519125  210.5034375  23.3273125 129.183125    2.974\n  28.3459375 100.4654375  12.453625   89.034125    8.736125   46.3758125\n  14.1265      7.435      15.24175    52.41675     4.646875    6.505625\n   2.3234375  26.0225      4.1821875   5.390375   23.234375   13.4759375\n  20.260375    6.31975    41.7289375  16.914625   22.7696875 119.4246875\n  11.52425    12.9183125  22.7696875  12.7324375  34.6656875  19.331\n  15.6135     38.847875   15.799375   15.1488125  35.502125    7.992625\n   9.7584375  14.87       28.62475     4.1821875   4.1821875   4.646875\n  17.0075625  30.4835     44.795875   14.9629375   6.6915      8.2714375\n   7.06325     8.0855625   5.2045      5.6691875  13.197125   21.93325\n   6.0409375  11.1525      3.2528125  51.487375   12.453625   15.24175\n   8.364375   23.606125    8.1785    112.826125    6.5985625   9.5725625\n  22.119125   33.08575    17.1005     30.0188125  10.1301875 187.2690625\n  43.0300625  19.331      17.3793125  16.4499375  42.193625    2.1375625\n  53.8108125   6.31975    23.8849375  17.3793125   8.2714375   2.6951875\n   1.85875     1.487       3.7175      2.788125    2.2305      9.6655\n   3.6245625   2.8810625   6.6915   ]\n"
     ]
    }
   ],
   "source": [
    "#khởi tại 1 vector w\n",
    "w = np.zeros([X.shape[1], 1])\n",
    "# print('w' , w)\n",
    "\n",
    "#define out linear regression function\n",
    "def pred(x, w):\n",
    "    return np.dot(x, w)\n",
    "y_pred= pred(X, w);\n",
    "\n",
    "# print('y_pred' , y_pred)\n",
    "\n",
    "#define our loss function\n",
    "def loss(_w):\n",
    "    p = pred(X, _w)\n",
    "    e = y - p\n",
    "    se = np.power(e, 2)\n",
    "    rse = np.sqrt(np.sum(se))\n",
    "    rmse = rse / y.shape[0]\n",
    "    return rmse\n",
    "\n",
    "#minimize our loss function\n",
    "min = fmin(loss, w, maxiter=1000)\n",
    "\n",
    "#make our prediction\n",
    "y_min = pred(X, min)\n",
    "print('y_min' , y_min)\n"
   ]
  },
  {
   "cell_type": "code",
   "execution_count": 1,
   "metadata": {},
   "outputs": [],
   "source": []
  },
  {
   "cell_type": "code",
   "execution_count": null,
   "metadata": {},
   "outputs": [],
   "source": []
  }
 ],
 "metadata": {
  "kernelspec": {
   "display_name": "Python 2",
   "language": "python",
   "name": "python2"
  },
  "language_info": {
   "codemirror_mode": {
    "name": "ipython",
    "version": 2
   },
   "file_extension": ".py",
   "mimetype": "text/x-python",
   "name": "python",
   "nbconvert_exporter": "python",
   "pygments_lexer": "ipython2",
   "version": "2.7.6"
  }
 },
 "nbformat": 4,
 "nbformat_minor": 0
}
